{
 "cells": [
  {
   "cell_type": "markdown",
   "metadata": {},
   "source": [
    "# Listing skills for each job category\n",
    "\n",
    "**Goal:** given a DataFrame with a column for skills and a column for job categories (e.g., business services, sales & marketing, writing & translation), create a map from each category to all skills required for that category."
   ]
  },
  {
   "cell_type": "markdown",
   "metadata": {},
   "source": [
    "# Example input DataFrame\n",
    "\n",
    "![Example of starting DataFrame](skills-categories-example.png)"
   ]
  },
  {
   "cell_type": "markdown",
   "metadata": {},
   "source": [
    "# Build example DataFrame"
   ]
  },
  {
   "cell_type": "code",
   "execution_count": 1,
   "metadata": {
    "collapsed": true
   },
   "outputs": [],
   "source": [
    "import pandas as pd"
   ]
  },
  {
   "cell_type": "code",
   "execution_count": 2,
   "metadata": {
    "collapsed": true
   },
   "outputs": [],
   "source": [
    "df_example = pd.DataFrame({'Skills':\n",
    "                   [\n",
    "                        'human resources;leadership;business development',\n",
    "                        'creative thinking;marketing communications',\n",
    "                        'microsoft excel', \n",
    "                        'marketing communications;animated video', \n",
    "                        'thesis;environmental management;industry analysis', \n",
    "                        'creative vision;branding'\n",
    "                   ],\n",
    "                   'Categories':\n",
    "                    [\n",
    "                        'business services;sales & marketing',\n",
    "                        'writing & translation;business services;sales & marketing',\n",
    "                        'administrative support;business services',\n",
    "                        'design & multimedia;sales & marketing',\n",
    "                        'writing & translation;business services',\n",
    "                        'design & multimedia;business services;sales & marketing'\n",
    "                    ]\n",
    "                  })"
   ]
  },
  {
   "cell_type": "code",
   "execution_count": 3,
   "metadata": {},
   "outputs": [
    {
     "data": {
      "text/html": [
       "<div>\n",
       "<style>\n",
       "    .dataframe thead tr:only-child th {\n",
       "        text-align: right;\n",
       "    }\n",
       "\n",
       "    .dataframe thead th {\n",
       "        text-align: left;\n",
       "    }\n",
       "\n",
       "    .dataframe tbody tr th {\n",
       "        vertical-align: top;\n",
       "    }\n",
       "</style>\n",
       "<table border=\"1\" class=\"dataframe\">\n",
       "  <thead>\n",
       "    <tr style=\"text-align: right;\">\n",
       "      <th></th>\n",
       "      <th>Skills</th>\n",
       "      <th>Categories</th>\n",
       "    </tr>\n",
       "  </thead>\n",
       "  <tbody>\n",
       "    <tr>\n",
       "      <th>0</th>\n",
       "      <td>human resources;leadership;business development</td>\n",
       "      <td>business services;sales &amp; marketing</td>\n",
       "    </tr>\n",
       "    <tr>\n",
       "      <th>1</th>\n",
       "      <td>creative thinking;marketing communications</td>\n",
       "      <td>writing &amp; translation;business services;sales ...</td>\n",
       "    </tr>\n",
       "    <tr>\n",
       "      <th>2</th>\n",
       "      <td>microsoft excel</td>\n",
       "      <td>administrative support;business services</td>\n",
       "    </tr>\n",
       "    <tr>\n",
       "      <th>3</th>\n",
       "      <td>marketing communications;animated video</td>\n",
       "      <td>design &amp; multimedia;sales &amp; marketing</td>\n",
       "    </tr>\n",
       "    <tr>\n",
       "      <th>4</th>\n",
       "      <td>thesis;environmental management;industry analysis</td>\n",
       "      <td>writing &amp; translation;business services</td>\n",
       "    </tr>\n",
       "    <tr>\n",
       "      <th>5</th>\n",
       "      <td>creative vision;branding</td>\n",
       "      <td>design &amp; multimedia;business services;sales &amp; ...</td>\n",
       "    </tr>\n",
       "  </tbody>\n",
       "</table>\n",
       "</div>"
      ],
      "text/plain": [
       "                                              Skills  \\\n",
       "0    human resources;leadership;business development   \n",
       "1         creative thinking;marketing communications   \n",
       "2                                    microsoft excel   \n",
       "3            marketing communications;animated video   \n",
       "4  thesis;environmental management;industry analysis   \n",
       "5                           creative vision;branding   \n",
       "\n",
       "                                          Categories  \n",
       "0                business services;sales & marketing  \n",
       "1  writing & translation;business services;sales ...  \n",
       "2           administrative support;business services  \n",
       "3              design & multimedia;sales & marketing  \n",
       "4            writing & translation;business services  \n",
       "5  design & multimedia;business services;sales & ...  "
      ]
     },
     "execution_count": 3,
     "metadata": {},
     "output_type": "execute_result"
    }
   ],
   "source": [
    "# Reorder columns if needed\n",
    "df = df_example[['Skills', 'Categories']]\n",
    "df"
   ]
  },
  {
   "cell_type": "markdown",
   "metadata": {},
   "source": [
    "# Try 1\n",
    "\n",
    "\n",
    "The most naive approach is simply to create a new DataFrame that maps each category to a list of skills mentioned in the original DataFrame. This doesn't involve any actual machine-learning, but it may be good enough (and fast enough) to be rerun each time the original dataframe is updated."
   ]
  },
  {
   "cell_type": "code",
   "execution_count": null,
   "metadata": {
    "collapsed": true
   },
   "outputs": [],
   "source": []
  }
 ],
 "metadata": {
  "kernelspec": {
   "display_name": "Python 2",
   "language": "python",
   "name": "python2"
  },
  "language_info": {
   "codemirror_mode": {
    "name": "ipython",
    "version": 2
   },
   "file_extension": ".py",
   "mimetype": "text/x-python",
   "name": "python",
   "nbconvert_exporter": "python",
   "pygments_lexer": "ipython2",
   "version": "2.7.13"
  }
 },
 "nbformat": 4,
 "nbformat_minor": 2
}
