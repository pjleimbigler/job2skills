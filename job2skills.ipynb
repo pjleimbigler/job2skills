{
 "cells": [
  {
   "cell_type": "markdown",
   "metadata": {},
   "source": [
    "# Listing skills for each job category\n",
    "\n",
    "**Problem:** You are given a DataFrame with one column of skills and another column of corresponding job categories. Which skill(s) are most closely associated with each job category?"
   ]
  },
  {
   "cell_type": "markdown",
   "metadata": {},
   "source": [
    "# Example input DataFrame\n",
    "\n",
    "![Example of starting DataFrame](skills-categories-example.png)"
   ]
  },
  {
   "cell_type": "markdown",
   "metadata": {},
   "source": [
    "# Build the above DataFrame"
   ]
  },
  {
   "cell_type": "code",
   "execution_count": 1,
   "metadata": {},
   "outputs": [],
   "source": [
    "d = {\n",
    "        'Skills':\n",
    "        [\n",
    "            'human resources;leadership;business development',\n",
    "            'creative thinking;marketing communications',\n",
    "            'microsoft excel', \n",
    "            'marketing communications;animated video', \n",
    "            'thesis;environmental management;industry analysis', \n",
    "            'creative vision;branding'\n",
    "        ],\n",
    "        'Categories':\n",
    "        [\n",
    "            'business services;sales & marketing',\n",
    "            'writing & translation;business services;sales & marketing',\n",
    "            'administrative support;business services',\n",
    "            'design & multimedia;sales & marketing',\n",
    "            'writing & translation;business services',\n",
    "            'design & multimedia;business services;sales & marketing'\n",
    "        ]\n",
    "    }"
   ]
  },
  {
   "cell_type": "code",
   "execution_count": 2,
   "metadata": {
    "collapsed": true
   },
   "outputs": [],
   "source": [
    "import pandas as pd\n",
    "df_example = pd.DataFrame(d)"
   ]
  },
  {
   "cell_type": "code",
   "execution_count": 3,
   "metadata": {},
   "outputs": [
    {
     "data": {
      "text/html": [
       "<div>\n",
       "<style>\n",
       "    .dataframe thead tr:only-child th {\n",
       "        text-align: right;\n",
       "    }\n",
       "\n",
       "    .dataframe thead th {\n",
       "        text-align: left;\n",
       "    }\n",
       "\n",
       "    .dataframe tbody tr th {\n",
       "        vertical-align: top;\n",
       "    }\n",
       "</style>\n",
       "<table border=\"1\" class=\"dataframe\">\n",
       "  <thead>\n",
       "    <tr style=\"text-align: right;\">\n",
       "      <th></th>\n",
       "      <th>Skills</th>\n",
       "      <th>Categories</th>\n",
       "    </tr>\n",
       "  </thead>\n",
       "  <tbody>\n",
       "    <tr>\n",
       "      <th>0</th>\n",
       "      <td>human resources;leadership;business development</td>\n",
       "      <td>business services;sales &amp; marketing</td>\n",
       "    </tr>\n",
       "    <tr>\n",
       "      <th>1</th>\n",
       "      <td>creative thinking;marketing communications</td>\n",
       "      <td>writing &amp; translation;business services;sales ...</td>\n",
       "    </tr>\n",
       "    <tr>\n",
       "      <th>2</th>\n",
       "      <td>microsoft excel</td>\n",
       "      <td>administrative support;business services</td>\n",
       "    </tr>\n",
       "    <tr>\n",
       "      <th>3</th>\n",
       "      <td>marketing communications;animated video</td>\n",
       "      <td>design &amp; multimedia;sales &amp; marketing</td>\n",
       "    </tr>\n",
       "    <tr>\n",
       "      <th>4</th>\n",
       "      <td>thesis;environmental management;industry analysis</td>\n",
       "      <td>writing &amp; translation;business services</td>\n",
       "    </tr>\n",
       "    <tr>\n",
       "      <th>5</th>\n",
       "      <td>creative vision;branding</td>\n",
       "      <td>design &amp; multimedia;business services;sales &amp; ...</td>\n",
       "    </tr>\n",
       "  </tbody>\n",
       "</table>\n",
       "</div>"
      ],
      "text/plain": [
       "                                              Skills  \\\n",
       "0    human resources;leadership;business development   \n",
       "1         creative thinking;marketing communications   \n",
       "2                                    microsoft excel   \n",
       "3            marketing communications;animated video   \n",
       "4  thesis;environmental management;industry analysis   \n",
       "5                           creative vision;branding   \n",
       "\n",
       "                                          Categories  \n",
       "0                business services;sales & marketing  \n",
       "1  writing & translation;business services;sales ...  \n",
       "2           administrative support;business services  \n",
       "3              design & multimedia;sales & marketing  \n",
       "4            writing & translation;business services  \n",
       "5  design & multimedia;business services;sales & ...  "
      ]
     },
     "execution_count": 3,
     "metadata": {},
     "output_type": "execute_result"
    }
   ],
   "source": [
    "# Reorder columns to match input example\n",
    "df = df_example[['Skills', 'Categories']]\n",
    "df"
   ]
  },
  {
   "cell_type": "markdown",
   "metadata": {},
   "source": [
    "# Try 1: build a python dictionary that maps jobs to skills\n",
    "The naive approach to the problem at hand is to build a dictionary that maps each job category to a list of required skills as mentioned in the original DataFrame. This approach doesn't involve any actual machine-learning, but it might just be good enough, depending on the size of the input data."
   ]
  },
  {
   "cell_type": "code",
   "execution_count": 4,
   "metadata": {
    "collapsed": true
   },
   "outputs": [],
   "source": [
    "from collections import defaultdict\n",
    "job2skills = defaultdict(list)"
   ]
  },
  {
   "cell_type": "code",
   "execution_count": 5,
   "metadata": {},
   "outputs": [],
   "source": [
    "# Split out each semicolon-delimited string into a nested list of \n",
    "# individual skills and job categories. Each top-level list\n",
    "# entry is one row in the original DF.\n",
    "skills = [s.split(';') for s in d['Skills']]\n",
    "categories = [c.split(';') for c in d['Categories']]"
   ]
  },
  {
   "cell_type": "code",
   "execution_count": 6,
   "metadata": {},
   "outputs": [
    {
     "data": {
      "text/plain": [
       "[['human resources', 'leadership', 'business development'],\n",
       " ['creative thinking', 'marketing communications'],\n",
       " ['microsoft excel'],\n",
       " ['marketing communications', 'animated video'],\n",
       " ['thesis', 'environmental management', 'industry analysis'],\n",
       " ['creative vision', 'branding']]"
      ]
     },
     "execution_count": 6,
     "metadata": {},
     "output_type": "execute_result"
    }
   ],
   "source": [
    "skills"
   ]
  },
  {
   "cell_type": "code",
   "execution_count": 7,
   "metadata": {},
   "outputs": [],
   "source": [
    "# This seems inefficient, but I don't know enough about \n",
    "# Python to improve it.\n",
    "# Build a dictionary \"job2skills\" that maps each job \n",
    "# category to a list of skills.\n",
    "for currcat, currskill in zip(categories, skills):\n",
    "    for c in currcat:\n",
    "        for s in currskill:\n",
    "            if s not in job2skills[c]:\n",
    "                job2skills[c].append(s)"
   ]
  },
  {
   "cell_type": "code",
   "execution_count": 8,
   "metadata": {
    "scrolled": false
   },
   "outputs": [
    {
     "data": {
      "text/plain": [
       "{'administrative support': ['microsoft excel'],\n",
       " 'business services': ['human resources',\n",
       "  'leadership',\n",
       "  'business development',\n",
       "  'creative thinking',\n",
       "  'marketing communications',\n",
       "  'microsoft excel',\n",
       "  'thesis',\n",
       "  'environmental management',\n",
       "  'industry analysis',\n",
       "  'creative vision',\n",
       "  'branding'],\n",
       " 'design & multimedia': ['marketing communications',\n",
       "  'animated video',\n",
       "  'creative vision',\n",
       "  'branding'],\n",
       " 'sales & marketing': ['human resources',\n",
       "  'leadership',\n",
       "  'business development',\n",
       "  'creative thinking',\n",
       "  'marketing communications',\n",
       "  'animated video',\n",
       "  'creative vision',\n",
       "  'branding'],\n",
       " 'writing & translation': ['creative thinking',\n",
       "  'marketing communications',\n",
       "  'thesis',\n",
       "  'environmental management',\n",
       "  'industry analysis']}"
      ]
     },
     "execution_count": 8,
     "metadata": {},
     "output_type": "execute_result"
    }
   ],
   "source": [
    "dict(job2skills)"
   ]
  },
  {
   "cell_type": "markdown",
   "metadata": {},
   "source": [
    "### Insights\n",
    "- Admin support is associated with only one skill: MS Excel.\n",
    "- Design and multimedia only has four skills, whereas business services has many.\n",
    "\n",
    "It might be useful to count the number of unique job->skill connections in the input DataFrame..."
   ]
  },
  {
   "cell_type": "markdown",
   "metadata": {},
   "source": [
    "# Try 1.5: Count frequency of each skill with a defaultdict of dicts\n",
    "\n",
    "We can capture the relative importance of skills by counting how many unique category-skill relationships exist in the original DataFrame."
   ]
  },
  {
   "cell_type": "code",
   "execution_count": 9,
   "metadata": {
    "collapsed": true
   },
   "outputs": [],
   "source": [
    "job2skills = defaultdict(dict)"
   ]
  },
  {
   "cell_type": "code",
   "execution_count": 10,
   "metadata": {},
   "outputs": [],
   "source": [
    "for currcat, currskill in zip(categories, skills):\n",
    "    for c in currcat:\n",
    "        for s in currskill:\n",
    "            if s in job2skills[c].keys():\n",
    "                job2skills[c][s] += 1\n",
    "            else:\n",
    "                job2skills[c][s] = 1"
   ]
  },
  {
   "cell_type": "code",
   "execution_count": 11,
   "metadata": {},
   "outputs": [
    {
     "data": {
      "text/plain": [
       "{'administrative support': {'microsoft excel': 1},\n",
       " 'business services': {'branding': 1,\n",
       "  'business development': 1,\n",
       "  'creative thinking': 1,\n",
       "  'creative vision': 1,\n",
       "  'environmental management': 1,\n",
       "  'human resources': 1,\n",
       "  'industry analysis': 1,\n",
       "  'leadership': 1,\n",
       "  'marketing communications': 1,\n",
       "  'microsoft excel': 1,\n",
       "  'thesis': 1},\n",
       " 'design & multimedia': {'animated video': 1,\n",
       "  'branding': 1,\n",
       "  'creative vision': 1,\n",
       "  'marketing communications': 1},\n",
       " 'sales & marketing': {'animated video': 1,\n",
       "  'branding': 1,\n",
       "  'business development': 1,\n",
       "  'creative thinking': 1,\n",
       "  'creative vision': 1,\n",
       "  'human resources': 1,\n",
       "  'leadership': 1,\n",
       "  'marketing communications': 2},\n",
       " 'writing & translation': {'creative thinking': 1,\n",
       "  'environmental management': 1,\n",
       "  'industry analysis': 1,\n",
       "  'marketing communications': 1,\n",
       "  'thesis': 1}}"
      ]
     },
     "execution_count": 11,
     "metadata": {},
     "output_type": "execute_result"
    }
   ],
   "source": [
    "dict(job2skills)"
   ]
  },
  {
   "cell_type": "markdown",
   "metadata": {},
   "source": [
    "### Insights\n",
    "Every job-to-skill relationship in the example DataFrame is unique, except for sales and marketing. We see that there were *two* connections from sales and marketing to the skill \"marketing communications.\""
   ]
  },
  {
   "cell_type": "markdown",
   "metadata": {},
   "source": [
    "## Plotting job-skill relationships"
   ]
  },
  {
   "cell_type": "code",
   "execution_count": 28,
   "metadata": {},
   "outputs": [],
   "source": [
    "df2 = pd.DataFrame(job2skills).fillna(0).astype(int)"
   ]
  },
  {
   "cell_type": "code",
   "execution_count": 30,
   "metadata": {},
   "outputs": [
    {
     "data": {
      "text/html": [
       "<div>\n",
       "<style>\n",
       "    .dataframe thead tr:only-child th {\n",
       "        text-align: right;\n",
       "    }\n",
       "\n",
       "    .dataframe thead th {\n",
       "        text-align: left;\n",
       "    }\n",
       "\n",
       "    .dataframe tbody tr th {\n",
       "        vertical-align: top;\n",
       "    }\n",
       "</style>\n",
       "<table border=\"1\" class=\"dataframe\">\n",
       "  <thead>\n",
       "    <tr style=\"text-align: right;\">\n",
       "      <th></th>\n",
       "      <th>administrative support</th>\n",
       "      <th>business services</th>\n",
       "      <th>design &amp; multimedia</th>\n",
       "      <th>sales &amp; marketing</th>\n",
       "      <th>writing &amp; translation</th>\n",
       "    </tr>\n",
       "  </thead>\n",
       "  <tbody>\n",
       "    <tr>\n",
       "      <th>animated video</th>\n",
       "      <td>0</td>\n",
       "      <td>0</td>\n",
       "      <td>1</td>\n",
       "      <td>1</td>\n",
       "      <td>0</td>\n",
       "    </tr>\n",
       "    <tr>\n",
       "      <th>branding</th>\n",
       "      <td>0</td>\n",
       "      <td>1</td>\n",
       "      <td>1</td>\n",
       "      <td>1</td>\n",
       "      <td>0</td>\n",
       "    </tr>\n",
       "    <tr>\n",
       "      <th>business development</th>\n",
       "      <td>0</td>\n",
       "      <td>1</td>\n",
       "      <td>0</td>\n",
       "      <td>1</td>\n",
       "      <td>0</td>\n",
       "    </tr>\n",
       "    <tr>\n",
       "      <th>creative thinking</th>\n",
       "      <td>0</td>\n",
       "      <td>1</td>\n",
       "      <td>0</td>\n",
       "      <td>1</td>\n",
       "      <td>1</td>\n",
       "    </tr>\n",
       "    <tr>\n",
       "      <th>creative vision</th>\n",
       "      <td>0</td>\n",
       "      <td>1</td>\n",
       "      <td>1</td>\n",
       "      <td>1</td>\n",
       "      <td>0</td>\n",
       "    </tr>\n",
       "    <tr>\n",
       "      <th>environmental management</th>\n",
       "      <td>0</td>\n",
       "      <td>1</td>\n",
       "      <td>0</td>\n",
       "      <td>0</td>\n",
       "      <td>1</td>\n",
       "    </tr>\n",
       "    <tr>\n",
       "      <th>human resources</th>\n",
       "      <td>0</td>\n",
       "      <td>1</td>\n",
       "      <td>0</td>\n",
       "      <td>1</td>\n",
       "      <td>0</td>\n",
       "    </tr>\n",
       "    <tr>\n",
       "      <th>industry analysis</th>\n",
       "      <td>0</td>\n",
       "      <td>1</td>\n",
       "      <td>0</td>\n",
       "      <td>0</td>\n",
       "      <td>1</td>\n",
       "    </tr>\n",
       "    <tr>\n",
       "      <th>leadership</th>\n",
       "      <td>0</td>\n",
       "      <td>1</td>\n",
       "      <td>0</td>\n",
       "      <td>1</td>\n",
       "      <td>0</td>\n",
       "    </tr>\n",
       "    <tr>\n",
       "      <th>marketing communications</th>\n",
       "      <td>0</td>\n",
       "      <td>1</td>\n",
       "      <td>1</td>\n",
       "      <td>2</td>\n",
       "      <td>1</td>\n",
       "    </tr>\n",
       "    <tr>\n",
       "      <th>microsoft excel</th>\n",
       "      <td>1</td>\n",
       "      <td>1</td>\n",
       "      <td>0</td>\n",
       "      <td>0</td>\n",
       "      <td>0</td>\n",
       "    </tr>\n",
       "    <tr>\n",
       "      <th>thesis</th>\n",
       "      <td>0</td>\n",
       "      <td>1</td>\n",
       "      <td>0</td>\n",
       "      <td>0</td>\n",
       "      <td>1</td>\n",
       "    </tr>\n",
       "  </tbody>\n",
       "</table>\n",
       "</div>"
      ],
      "text/plain": [
       "                          administrative support  business services  \\\n",
       "animated video                                 0                  0   \n",
       "branding                                       0                  1   \n",
       "business development                           0                  1   \n",
       "creative thinking                              0                  1   \n",
       "creative vision                                0                  1   \n",
       "environmental management                       0                  1   \n",
       "human resources                                0                  1   \n",
       "industry analysis                              0                  1   \n",
       "leadership                                     0                  1   \n",
       "marketing communications                       0                  1   \n",
       "microsoft excel                                1                  1   \n",
       "thesis                                         0                  1   \n",
       "\n",
       "                          design & multimedia  sales & marketing  \\\n",
       "animated video                              1                  1   \n",
       "branding                                    1                  1   \n",
       "business development                        0                  1   \n",
       "creative thinking                           0                  1   \n",
       "creative vision                             1                  1   \n",
       "environmental management                    0                  0   \n",
       "human resources                             0                  1   \n",
       "industry analysis                           0                  0   \n",
       "leadership                                  0                  1   \n",
       "marketing communications                    1                  2   \n",
       "microsoft excel                             0                  0   \n",
       "thesis                                      0                  0   \n",
       "\n",
       "                          writing & translation  \n",
       "animated video                                0  \n",
       "branding                                      0  \n",
       "business development                          0  \n",
       "creative thinking                             1  \n",
       "creative vision                               0  \n",
       "environmental management                      1  \n",
       "human resources                               0  \n",
       "industry analysis                             1  \n",
       "leadership                                    0  \n",
       "marketing communications                      1  \n",
       "microsoft excel                               0  \n",
       "thesis                                        1  "
      ]
     },
     "execution_count": 30,
     "metadata": {},
     "output_type": "execute_result"
    }
   ],
   "source": [
    "df2"
   ]
  },
  {
   "cell_type": "code",
   "execution_count": 44,
   "metadata": {},
   "outputs": [
    {
     "data": {
      "text/plain": [
       "<matplotlib.text.Text at 0x110d36490>"
      ]
     },
     "execution_count": 44,
     "metadata": {},
     "output_type": "execute_result"
    },
    {
     "data": {
      "image/png": "[encoded data removed]",
      "text/plain": [
       "<matplotlib.figure.Figure at 0x110a9e550>"
      ]
     },
     "metadata": {},
     "output_type": "display_data"
    }
   ],
   "source": [
    "import matplotlib.pyplot as plt\n",
    "%matplotlib inline\n",
    "\n",
    "fig, ax = plt.subplots(1, 1, figsize=(10,6))\n",
    "df2.plot(kind='bar', ax=ax)\n",
    "plt.ylim([0, 3])\n",
    "plt.legend(ncol=3, mode='expand')\n",
    "plt.xlabel('Skill')\n",
    "plt.ylabel('Mention count')"
   ]
  },
  {
   "cell_type": "code",
   "execution_count": 38,
   "metadata": {},
   "outputs": [
    {
     "data": {
      "text/plain": [
       "<matplotlib.text.Text at 0x10ff4be90>"
      ]
     },
     "execution_count": 38,
     "metadata": {},
     "output_type": "execute_result"
    },
    {
     "data": {
      "image/png": "[encoded data removed]",
      "text/plain": [
       "<matplotlib.figure.Figure at 0x10feeee10>"
      ]
     },
     "metadata": {},
     "output_type": "display_data"
    }
   ],
   "source": [
    "import matplotlib.pyplot as plt\n",
    "%matplotlib inline\n",
    "fig, ax = plt.subplots(1, 1, figsize=(10,6))\n",
    "df2.T.plot(kind='bar', ax=ax)\n",
    "plt.ylim([0, 3])\n",
    "plt.legend(ncol=3, mode='expand')\n",
    "plt.xlabel('Job category')\n",
    "plt.ylabel('Mention count')"
   ]
  },
  {
   "cell_type": "code",
   "execution_count": null,
   "metadata": {},
   "outputs": [],
   "source": [
    "import seaborn as sns\n",
    "fig, ax = plt.subplots(1, 1, figsize=(7, 8))\n",
    "sns.heatmap(df2, linewidths=0.1, linecolor='k')\n",
    "plt.xticks(rotation=70)"
   ]
  },
  {
   "cell_type": "markdown",
   "metadata": {},
   "source": [
    "# Try 2: directly in pandas"
   ]
  },
  {
   "cell_type": "code",
   "execution_count": 15,
   "metadata": {},
   "outputs": [],
   "source": [
    "Skills = df['Skills'].str.split(';', expand=True)\n",
    "Categories = df['Categories'].str.split(';', expand=True)"
   ]
  },
  {
   "cell_type": "code",
   "execution_count": 16,
   "metadata": {},
   "outputs": [
    {
     "data": {
      "text/html": [
       "<div>\n",
       "<style>\n",
       "    .dataframe thead tr:only-child th {\n",
       "        text-align: right;\n",
       "    }\n",
       "\n",
       "    .dataframe thead th {\n",
       "        text-align: left;\n",
       "    }\n",
       "\n",
       "    .dataframe tbody tr th {\n",
       "        vertical-align: top;\n",
       "    }\n",
       "</style>\n",
       "<table border=\"1\" class=\"dataframe\">\n",
       "  <thead>\n",
       "    <tr style=\"text-align: right;\">\n",
       "      <th></th>\n",
       "      <th>0</th>\n",
       "      <th>1</th>\n",
       "      <th>2</th>\n",
       "    </tr>\n",
       "  </thead>\n",
       "  <tbody>\n",
       "    <tr>\n",
       "      <th>0</th>\n",
       "      <td>business services</td>\n",
       "      <td>sales &amp; marketing</td>\n",
       "      <td>None</td>\n",
       "    </tr>\n",
       "    <tr>\n",
       "      <th>1</th>\n",
       "      <td>writing &amp; translation</td>\n",
       "      <td>business services</td>\n",
       "      <td>sales &amp; marketing</td>\n",
       "    </tr>\n",
       "    <tr>\n",
       "      <th>2</th>\n",
       "      <td>administrative support</td>\n",
       "      <td>business services</td>\n",
       "      <td>None</td>\n",
       "    </tr>\n",
       "    <tr>\n",
       "      <th>3</th>\n",
       "      <td>design &amp; multimedia</td>\n",
       "      <td>sales &amp; marketing</td>\n",
       "      <td>None</td>\n",
       "    </tr>\n",
       "    <tr>\n",
       "      <th>4</th>\n",
       "      <td>writing &amp; translation</td>\n",
       "      <td>business services</td>\n",
       "      <td>None</td>\n",
       "    </tr>\n",
       "    <tr>\n",
       "      <th>5</th>\n",
       "      <td>design &amp; multimedia</td>\n",
       "      <td>business services</td>\n",
       "      <td>sales &amp; marketing</td>\n",
       "    </tr>\n",
       "  </tbody>\n",
       "</table>\n",
       "</div>"
      ],
      "text/plain": [
       "                        0                  1                  2\n",
       "0       business services  sales & marketing               None\n",
       "1   writing & translation  business services  sales & marketing\n",
       "2  administrative support  business services               None\n",
       "3     design & multimedia  sales & marketing               None\n",
       "4   writing & translation  business services               None\n",
       "5     design & multimedia  business services  sales & marketing"
      ]
     },
     "execution_count": 16,
     "metadata": {},
     "output_type": "execute_result"
    }
   ],
   "source": [
    "Categories"
   ]
  },
  {
   "cell_type": "code",
   "execution_count": 17,
   "metadata": {},
   "outputs": [
    {
     "data": {
      "text/html": [
       "<div>\n",
       "<style>\n",
       "    .dataframe thead tr:only-child th {\n",
       "        text-align: right;\n",
       "    }\n",
       "\n",
       "    .dataframe thead th {\n",
       "        text-align: left;\n",
       "    }\n",
       "\n",
       "    .dataframe tbody tr th {\n",
       "        vertical-align: top;\n",
       "    }\n",
       "</style>\n",
       "<table border=\"1\" class=\"dataframe\">\n",
       "  <thead>\n",
       "    <tr style=\"text-align: right;\">\n",
       "      <th></th>\n",
       "      <th>Row</th>\n",
       "      <th>Category</th>\n",
       "    </tr>\n",
       "  </thead>\n",
       "  <tbody>\n",
       "    <tr>\n",
       "      <th>0</th>\n",
       "      <td>0</td>\n",
       "      <td>business services</td>\n",
       "    </tr>\n",
       "    <tr>\n",
       "      <th>1</th>\n",
       "      <td>0</td>\n",
       "      <td>sales &amp; marketing</td>\n",
       "    </tr>\n",
       "    <tr>\n",
       "      <th>2</th>\n",
       "      <td>0</td>\n",
       "      <td>None</td>\n",
       "    </tr>\n",
       "    <tr>\n",
       "      <th>3</th>\n",
       "      <td>1</td>\n",
       "      <td>writing &amp; translation</td>\n",
       "    </tr>\n",
       "    <tr>\n",
       "      <th>4</th>\n",
       "      <td>1</td>\n",
       "      <td>business services</td>\n",
       "    </tr>\n",
       "    <tr>\n",
       "      <th>5</th>\n",
       "      <td>1</td>\n",
       "      <td>sales &amp; marketing</td>\n",
       "    </tr>\n",
       "    <tr>\n",
       "      <th>6</th>\n",
       "      <td>2</td>\n",
       "      <td>administrative support</td>\n",
       "    </tr>\n",
       "    <tr>\n",
       "      <th>7</th>\n",
       "      <td>2</td>\n",
       "      <td>business services</td>\n",
       "    </tr>\n",
       "    <tr>\n",
       "      <th>8</th>\n",
       "      <td>2</td>\n",
       "      <td>None</td>\n",
       "    </tr>\n",
       "    <tr>\n",
       "      <th>9</th>\n",
       "      <td>3</td>\n",
       "      <td>design &amp; multimedia</td>\n",
       "    </tr>\n",
       "    <tr>\n",
       "      <th>10</th>\n",
       "      <td>3</td>\n",
       "      <td>sales &amp; marketing</td>\n",
       "    </tr>\n",
       "    <tr>\n",
       "      <th>11</th>\n",
       "      <td>3</td>\n",
       "      <td>None</td>\n",
       "    </tr>\n",
       "    <tr>\n",
       "      <th>12</th>\n",
       "      <td>4</td>\n",
       "      <td>writing &amp; translation</td>\n",
       "    </tr>\n",
       "    <tr>\n",
       "      <th>13</th>\n",
       "      <td>4</td>\n",
       "      <td>business services</td>\n",
       "    </tr>\n",
       "    <tr>\n",
       "      <th>14</th>\n",
       "      <td>4</td>\n",
       "      <td>None</td>\n",
       "    </tr>\n",
       "    <tr>\n",
       "      <th>15</th>\n",
       "      <td>5</td>\n",
       "      <td>design &amp; multimedia</td>\n",
       "    </tr>\n",
       "    <tr>\n",
       "      <th>16</th>\n",
       "      <td>5</td>\n",
       "      <td>business services</td>\n",
       "    </tr>\n",
       "    <tr>\n",
       "      <th>17</th>\n",
       "      <td>5</td>\n",
       "      <td>sales &amp; marketing</td>\n",
       "    </tr>\n",
       "  </tbody>\n",
       "</table>\n",
       "</div>"
      ],
      "text/plain": [
       "    Row                Category\n",
       "0     0       business services\n",
       "1     0       sales & marketing\n",
       "2     0                    None\n",
       "3     1   writing & translation\n",
       "4     1       business services\n",
       "5     1       sales & marketing\n",
       "6     2  administrative support\n",
       "7     2       business services\n",
       "8     2                    None\n",
       "9     3     design & multimedia\n",
       "10    3       sales & marketing\n",
       "11    3                    None\n",
       "12    4   writing & translation\n",
       "13    4       business services\n",
       "14    4                    None\n",
       "15    5     design & multimedia\n",
       "16    5       business services\n",
       "17    5       sales & marketing"
      ]
     },
     "execution_count": 17,
     "metadata": {},
     "output_type": "execute_result"
    }
   ],
   "source": [
    "Categories_m = pd.melt(Categories.T, var_name='Row', value_name='Category')\n",
    "Categories_m"
   ]
  },
  {
   "cell_type": "code",
   "execution_count": 18,
   "metadata": {},
   "outputs": [
    {
     "data": {
      "text/html": [
       "<div>\n",
       "<style>\n",
       "    .dataframe thead tr:only-child th {\n",
       "        text-align: right;\n",
       "    }\n",
       "\n",
       "    .dataframe thead th {\n",
       "        text-align: left;\n",
       "    }\n",
       "\n",
       "    .dataframe tbody tr th {\n",
       "        vertical-align: top;\n",
       "    }\n",
       "</style>\n",
       "<table border=\"1\" class=\"dataframe\">\n",
       "  <thead>\n",
       "    <tr style=\"text-align: right;\">\n",
       "      <th></th>\n",
       "      <th>Row</th>\n",
       "      <th>Skill</th>\n",
       "    </tr>\n",
       "  </thead>\n",
       "  <tbody>\n",
       "    <tr>\n",
       "      <th>0</th>\n",
       "      <td>0</td>\n",
       "      <td>human resources</td>\n",
       "    </tr>\n",
       "    <tr>\n",
       "      <th>1</th>\n",
       "      <td>0</td>\n",
       "      <td>leadership</td>\n",
       "    </tr>\n",
       "    <tr>\n",
       "      <th>2</th>\n",
       "      <td>0</td>\n",
       "      <td>business development</td>\n",
       "    </tr>\n",
       "    <tr>\n",
       "      <th>3</th>\n",
       "      <td>1</td>\n",
       "      <td>creative thinking</td>\n",
       "    </tr>\n",
       "    <tr>\n",
       "      <th>4</th>\n",
       "      <td>1</td>\n",
       "      <td>marketing communications</td>\n",
       "    </tr>\n",
       "    <tr>\n",
       "      <th>5</th>\n",
       "      <td>1</td>\n",
       "      <td>None</td>\n",
       "    </tr>\n",
       "    <tr>\n",
       "      <th>6</th>\n",
       "      <td>2</td>\n",
       "      <td>microsoft excel</td>\n",
       "    </tr>\n",
       "    <tr>\n",
       "      <th>7</th>\n",
       "      <td>2</td>\n",
       "      <td>None</td>\n",
       "    </tr>\n",
       "    <tr>\n",
       "      <th>8</th>\n",
       "      <td>2</td>\n",
       "      <td>None</td>\n",
       "    </tr>\n",
       "    <tr>\n",
       "      <th>9</th>\n",
       "      <td>3</td>\n",
       "      <td>marketing communications</td>\n",
       "    </tr>\n",
       "    <tr>\n",
       "      <th>10</th>\n",
       "      <td>3</td>\n",
       "      <td>animated video</td>\n",
       "    </tr>\n",
       "    <tr>\n",
       "      <th>11</th>\n",
       "      <td>3</td>\n",
       "      <td>None</td>\n",
       "    </tr>\n",
       "    <tr>\n",
       "      <th>12</th>\n",
       "      <td>4</td>\n",
       "      <td>thesis</td>\n",
       "    </tr>\n",
       "    <tr>\n",
       "      <th>13</th>\n",
       "      <td>4</td>\n",
       "      <td>environmental management</td>\n",
       "    </tr>\n",
       "    <tr>\n",
       "      <th>14</th>\n",
       "      <td>4</td>\n",
       "      <td>industry analysis</td>\n",
       "    </tr>\n",
       "    <tr>\n",
       "      <th>15</th>\n",
       "      <td>5</td>\n",
       "      <td>creative vision</td>\n",
       "    </tr>\n",
       "    <tr>\n",
       "      <th>16</th>\n",
       "      <td>5</td>\n",
       "      <td>branding</td>\n",
       "    </tr>\n",
       "    <tr>\n",
       "      <th>17</th>\n",
       "      <td>5</td>\n",
       "      <td>None</td>\n",
       "    </tr>\n",
       "  </tbody>\n",
       "</table>\n",
       "</div>"
      ],
      "text/plain": [
       "    Row                     Skill\n",
       "0     0           human resources\n",
       "1     0                leadership\n",
       "2     0      business development\n",
       "3     1         creative thinking\n",
       "4     1  marketing communications\n",
       "5     1                      None\n",
       "6     2           microsoft excel\n",
       "7     2                      None\n",
       "8     2                      None\n",
       "9     3  marketing communications\n",
       "10    3            animated video\n",
       "11    3                      None\n",
       "12    4                    thesis\n",
       "13    4  environmental management\n",
       "14    4         industry analysis\n",
       "15    5           creative vision\n",
       "16    5                  branding\n",
       "17    5                      None"
      ]
     },
     "execution_count": 18,
     "metadata": {},
     "output_type": "execute_result"
    }
   ],
   "source": [
    "Skills_m = pd.melt(Skills.T, var_name='Row', value_name='Skill')\n",
    "Skills_m"
   ]
  },
  {
   "cell_type": "code",
   "execution_count": 19,
   "metadata": {},
   "outputs": [],
   "source": [
    "df = pd.concat([Categories_m['Category'], Skills_m['Skill']], axis=1)\n",
    "df.dropna(subset=['Category'], inplace=True)\n",
    "df.fillna('other', inplace=True)"
   ]
  },
  {
   "cell_type": "code",
   "execution_count": 20,
   "metadata": {},
   "outputs": [],
   "source": [
    "df2 = df.groupby('Category').agg({'Skill': 'unique'}).reset_index()"
   ]
  },
  {
   "cell_type": "code",
   "execution_count": 21,
   "metadata": {},
   "outputs": [
    {
     "data": {
      "text/html": [
       "<div>\n",
       "<style>\n",
       "    .dataframe thead tr:only-child th {\n",
       "        text-align: right;\n",
       "    }\n",
       "\n",
       "    .dataframe thead th {\n",
       "        text-align: left;\n",
       "    }\n",
       "\n",
       "    .dataframe tbody tr th {\n",
       "        vertical-align: top;\n",
       "    }\n",
       "</style>\n",
       "<table border=\"1\" class=\"dataframe\">\n",
       "  <thead>\n",
       "    <tr style=\"text-align: right;\">\n",
       "      <th></th>\n",
       "      <th>Category</th>\n",
       "      <th>Skill</th>\n",
       "    </tr>\n",
       "  </thead>\n",
       "  <tbody>\n",
       "    <tr>\n",
       "      <th>0</th>\n",
       "      <td>administrative support</td>\n",
       "      <td>[microsoft excel]</td>\n",
       "    </tr>\n",
       "    <tr>\n",
       "      <th>1</th>\n",
       "      <td>business services</td>\n",
       "      <td>[human resources, marketing communications, ot...</td>\n",
       "    </tr>\n",
       "    <tr>\n",
       "      <th>2</th>\n",
       "      <td>design &amp; multimedia</td>\n",
       "      <td>[marketing communications, creative vision]</td>\n",
       "    </tr>\n",
       "    <tr>\n",
       "      <th>3</th>\n",
       "      <td>sales &amp; marketing</td>\n",
       "      <td>[leadership, other, animated video]</td>\n",
       "    </tr>\n",
       "    <tr>\n",
       "      <th>4</th>\n",
       "      <td>writing &amp; translation</td>\n",
       "      <td>[creative thinking, thesis]</td>\n",
       "    </tr>\n",
       "  </tbody>\n",
       "</table>\n",
       "</div>"
      ],
      "text/plain": [
       "                 Category                                              Skill\n",
       "0  administrative support                                  [microsoft excel]\n",
       "1       business services  [human resources, marketing communications, ot...\n",
       "2     design & multimedia        [marketing communications, creative vision]\n",
       "3       sales & marketing                [leadership, other, animated video]\n",
       "4   writing & translation                        [creative thinking, thesis]"
      ]
     },
     "execution_count": 21,
     "metadata": {},
     "output_type": "execute_result"
    }
   ],
   "source": [
    "df2"
   ]
  }
 ],
 "metadata": {
  "kernelspec": {
   "display_name": "Python 2",
   "language": "python",
   "name": "python2"
  },
  "language_info": {
   "codemirror_mode": {
    "name": "ipython",
    "version": 2
   },
   "file_extension": ".py",
   "mimetype": "text/x-python",
   "name": "python",
   "nbconvert_exporter": "python",
   "pygments_lexer": "ipython2",
   "version": "2.7.13"
  }
 },
 "nbformat": 4,
 "nbformat_minor": 2
}
